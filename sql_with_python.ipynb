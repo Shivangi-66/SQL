{
 "cells": [
  {
   "cell_type": "code",
   "execution_count": 2,
   "id": "e75a61ce-3462-4ab1-8b64-2af2a7087d13",
   "metadata": {},
   "outputs": [
    {
     "ename": "ModuleNotFoundError",
     "evalue": "No module named 'mysql'",
     "output_type": "error",
     "traceback": [
      "\u001b[1;31m---------------------------------------------------------------------------\u001b[0m",
      "\u001b[1;31mModuleNotFoundError\u001b[0m                       Traceback (most recent call last)",
      "Cell \u001b[1;32mIn[2], line 2\u001b[0m\n\u001b[0;32m      1\u001b[0m \u001b[38;5;66;03m# import libraries\u001b[39;00m\n\u001b[1;32m----> 2\u001b[0m \u001b[38;5;28;01mimport\u001b[39;00m \u001b[38;5;21;01mmysql\u001b[39;00m\u001b[38;5;21;01m.\u001b[39;00m\u001b[38;5;21;01mconnector\u001b[39;00m\n\u001b[0;32m      3\u001b[0m \u001b[38;5;28;01mfrom\u001b[39;00m \u001b[38;5;21;01mmysql\u001b[39;00m\u001b[38;5;21;01m.\u001b[39;00m\u001b[38;5;21;01mconnector\u001b[39;00m \u001b[38;5;28;01mimport\u001b[39;00m Error\n\u001b[0;32m      4\u001b[0m \u001b[38;5;28;01mimport\u001b[39;00m \u001b[38;5;21;01mpandas\u001b[39;00m \u001b[38;5;28;01mas\u001b[39;00m \u001b[38;5;21;01mpd\u001b[39;00m\n",
      "\u001b[1;31mModuleNotFoundError\u001b[0m: No module named 'mysql'"
     ]
    }
   ],
   "source": [
    "# import libraries\n",
    "import mysql.connector\n",
    "from mysql.connector import Error\n",
    "import pandas as pd\n"
   ]
  },
  {
   "cell_type": "code",
   "execution_count": null,
   "id": "05c19945-c7eb-4ee1-b4c8-68697cb0f20f",
   "metadata": {},
   "outputs": [],
   "source": []
  },
  {
   "cell_type": "code",
   "execution_count": 4,
   "id": "a85fd8b7-7034-49b9-af71-d20c7fe307d7",
   "metadata": {},
   "outputs": [
    {
     "name": "stdout",
     "output_type": "stream",
     "text": [
      "Collecting mysql-connector-python\n",
      "  Downloading mysql_connector_python-9.0.0-cp311-cp311-win_amd64.whl.metadata (2.0 kB)\n",
      "Downloading mysql_connector_python-9.0.0-cp311-cp311-win_amd64.whl (14.3 MB)\n",
      "   ---------------------------------------- 0.0/14.3 MB ? eta -:--:--\n",
      "   ---------------------------------------- 0.0/14.3 MB ? eta -:--:--\n",
      "   ---------------------------------------- 0.0/14.3 MB ? eta -:--:--\n",
      "   ---------------------------------------- 0.1/14.3 MB 2.1 MB/s eta 0:00:07\n",
      "    --------------------------------------- 0.3/14.3 MB 3.3 MB/s eta 0:00:05\n",
      "   - -------------------------------------- 0.5/14.3 MB 3.1 MB/s eta 0:00:05\n",
      "   -- ------------------------------------- 0.7/14.3 MB 3.5 MB/s eta 0:00:04\n",
      "   -- ------------------------------------- 1.0/14.3 MB 3.8 MB/s eta 0:00:04\n",
      "   --- ------------------------------------ 1.1/14.3 MB 3.9 MB/s eta 0:00:04\n",
      "   ---- ----------------------------------- 1.6/14.3 MB 4.6 MB/s eta 0:00:03\n",
      "   ----- ---------------------------------- 2.0/14.3 MB 5.1 MB/s eta 0:00:03\n",
      "   ------- -------------------------------- 2.6/14.3 MB 6.0 MB/s eta 0:00:02\n",
      "   ------- -------------------------------- 2.9/14.3 MB 5.9 MB/s eta 0:00:02\n",
      "   -------- ------------------------------- 3.2/14.3 MB 6.2 MB/s eta 0:00:02\n",
      "   --------- ------------------------------ 3.5/14.3 MB 6.0 MB/s eta 0:00:02\n",
      "   ---------- ----------------------------- 3.7/14.3 MB 6.0 MB/s eta 0:00:02\n",
      "   ---------- ----------------------------- 3.9/14.3 MB 5.9 MB/s eta 0:00:02\n",
      "   ----------- ---------------------------- 4.1/14.3 MB 5.8 MB/s eta 0:00:02\n",
      "   ----------- ---------------------------- 4.2/14.3 MB 5.6 MB/s eta 0:00:02\n",
      "   ------------ --------------------------- 4.5/14.3 MB 5.5 MB/s eta 0:00:02\n",
      "   ------------ --------------------------- 4.5/14.3 MB 5.5 MB/s eta 0:00:02\n",
      "   ------------ --------------------------- 4.6/14.3 MB 5.1 MB/s eta 0:00:02\n",
      "   ------------ --------------------------- 4.6/14.3 MB 5.1 MB/s eta 0:00:02\n",
      "   ------------- -------------------------- 4.8/14.3 MB 4.7 MB/s eta 0:00:03\n",
      "   ------------- -------------------------- 4.8/14.3 MB 4.6 MB/s eta 0:00:03\n",
      "   ------------- -------------------------- 5.0/14.3 MB 4.5 MB/s eta 0:00:03\n",
      "   -------------- ------------------------- 5.1/14.3 MB 4.5 MB/s eta 0:00:03\n",
      "   -------------- ------------------------- 5.2/14.3 MB 4.4 MB/s eta 0:00:03\n",
      "   -------------- ------------------------- 5.4/14.3 MB 4.4 MB/s eta 0:00:03\n",
      "   --------------- ------------------------ 5.6/14.3 MB 4.4 MB/s eta 0:00:03\n",
      "   ---------------- ----------------------- 5.7/14.3 MB 4.3 MB/s eta 0:00:02\n",
      "   ---------------- ----------------------- 5.8/14.3 MB 4.3 MB/s eta 0:00:02\n",
      "   ---------------- ----------------------- 5.9/14.3 MB 4.2 MB/s eta 0:00:02\n",
      "   ---------------- ----------------------- 6.0/14.3 MB 4.2 MB/s eta 0:00:02\n",
      "   ----------------- ---------------------- 6.2/14.3 MB 4.1 MB/s eta 0:00:03\n",
      "   ----------------- ---------------------- 6.4/14.3 MB 4.1 MB/s eta 0:00:02\n",
      "   ------------------ --------------------- 6.6/14.3 MB 4.1 MB/s eta 0:00:02\n",
      "   ------------------ --------------------- 6.8/14.3 MB 4.1 MB/s eta 0:00:02\n",
      "   ------------------- -------------------- 7.0/14.3 MB 4.1 MB/s eta 0:00:02\n",
      "   ------------------- -------------------- 7.1/14.3 MB 4.1 MB/s eta 0:00:02\n",
      "   -------------------- ------------------- 7.3/14.3 MB 4.1 MB/s eta 0:00:02\n",
      "   -------------------- ------------------- 7.5/14.3 MB 4.1 MB/s eta 0:00:02\n",
      "   --------------------- ------------------ 7.7/14.3 MB 4.1 MB/s eta 0:00:02\n",
      "   --------------------- ------------------ 7.9/14.3 MB 4.1 MB/s eta 0:00:02\n",
      "   ---------------------- ----------------- 8.0/14.3 MB 4.1 MB/s eta 0:00:02\n",
      "   ---------------------- ----------------- 8.2/14.3 MB 4.0 MB/s eta 0:00:02\n",
      "   ----------------------- ---------------- 8.3/14.3 MB 4.0 MB/s eta 0:00:02\n",
      "   ----------------------- ---------------- 8.5/14.3 MB 4.0 MB/s eta 0:00:02\n",
      "   ------------------------ --------------- 8.6/14.3 MB 3.9 MB/s eta 0:00:02\n",
      "   ------------------------ --------------- 8.7/14.3 MB 3.9 MB/s eta 0:00:02\n",
      "   ------------------------ --------------- 8.8/14.3 MB 3.8 MB/s eta 0:00:02\n",
      "   ------------------------ --------------- 8.8/14.3 MB 3.8 MB/s eta 0:00:02\n",
      "   ------------------------ --------------- 8.8/14.3 MB 3.7 MB/s eta 0:00:02\n",
      "   ------------------------ --------------- 8.9/14.3 MB 3.7 MB/s eta 0:00:02\n",
      "   ------------------------ --------------- 9.0/14.3 MB 3.6 MB/s eta 0:00:02\n",
      "   ------------------------- -------------- 9.0/14.3 MB 3.6 MB/s eta 0:00:02\n",
      "   ------------------------- -------------- 9.1/14.3 MB 3.5 MB/s eta 0:00:02\n",
      "   ------------------------- -------------- 9.1/14.3 MB 3.5 MB/s eta 0:00:02\n",
      "   ------------------------- -------------- 9.1/14.3 MB 3.4 MB/s eta 0:00:02\n",
      "   ------------------------- -------------- 9.2/14.3 MB 3.4 MB/s eta 0:00:02\n",
      "   ------------------------- -------------- 9.3/14.3 MB 3.4 MB/s eta 0:00:02\n",
      "   -------------------------- ------------- 9.3/14.3 MB 3.3 MB/s eta 0:00:02\n",
      "   -------------------------- ------------- 9.4/14.3 MB 3.3 MB/s eta 0:00:02\n",
      "   -------------------------- ------------- 9.5/14.3 MB 3.3 MB/s eta 0:00:02\n",
      "   -------------------------- ------------- 9.6/14.3 MB 3.3 MB/s eta 0:00:02\n",
      "   -------------------------- ------------- 9.7/14.3 MB 3.2 MB/s eta 0:00:02\n",
      "   --------------------------- ------------ 9.8/14.3 MB 3.2 MB/s eta 0:00:02\n",
      "   --------------------------- ------------ 9.9/14.3 MB 3.2 MB/s eta 0:00:02\n",
      "   --------------------------- ------------ 10.0/14.3 MB 3.2 MB/s eta 0:00:02\n",
      "   ---------------------------- ----------- 10.1/14.3 MB 3.2 MB/s eta 0:00:02\n",
      "   ---------------------------- ----------- 10.1/14.3 MB 3.2 MB/s eta 0:00:02\n",
      "   ---------------------------- ----------- 10.1/14.3 MB 3.1 MB/s eta 0:00:02\n",
      "   ---------------------------- ----------- 10.2/14.3 MB 3.1 MB/s eta 0:00:02\n",
      "   ---------------------------- ----------- 10.3/14.3 MB 3.1 MB/s eta 0:00:02\n",
      "   ---------------------------- ----------- 10.4/14.3 MB 3.1 MB/s eta 0:00:02\n",
      "   ----------------------------- ---------- 10.5/14.3 MB 3.0 MB/s eta 0:00:02\n",
      "   ----------------------------- ---------- 10.6/14.3 MB 3.0 MB/s eta 0:00:02\n",
      "   ----------------------------- ---------- 10.7/14.3 MB 3.0 MB/s eta 0:00:02\n",
      "   ------------------------------ --------- 10.8/14.3 MB 3.0 MB/s eta 0:00:02\n",
      "   ------------------------------ --------- 10.9/14.3 MB 3.0 MB/s eta 0:00:02\n",
      "   ------------------------------ --------- 11.0/14.3 MB 3.0 MB/s eta 0:00:02\n",
      "   ------------------------------ --------- 11.1/14.3 MB 2.9 MB/s eta 0:00:02\n",
      "   ------------------------------- -------- 11.3/14.3 MB 2.9 MB/s eta 0:00:02\n",
      "   ------------------------------- -------- 11.4/14.3 MB 2.9 MB/s eta 0:00:02\n",
      "   -------------------------------- ------- 11.5/14.3 MB 2.9 MB/s eta 0:00:01\n",
      "   -------------------------------- ------- 11.6/14.3 MB 2.8 MB/s eta 0:00:01\n",
      "   -------------------------------- ------- 11.8/14.3 MB 2.8 MB/s eta 0:00:01\n",
      "   --------------------------------- ------ 11.9/14.3 MB 2.8 MB/s eta 0:00:01\n",
      "   --------------------------------- ------ 12.0/14.3 MB 2.8 MB/s eta 0:00:01\n",
      "   --------------------------------- ------ 12.1/14.3 MB 2.8 MB/s eta 0:00:01\n",
      "   ---------------------------------- ----- 12.2/14.3 MB 2.7 MB/s eta 0:00:01\n",
      "   ---------------------------------- ----- 12.4/14.3 MB 2.7 MB/s eta 0:00:01\n",
      "   ----------------------------------- ---- 12.9/14.3 MB 2.7 MB/s eta 0:00:01\n",
      "   ------------------------------------ --- 13.0/14.3 MB 2.7 MB/s eta 0:00:01\n",
      "   ------------------------------------ --- 13.1/14.3 MB 2.7 MB/s eta 0:00:01\n",
      "   ------------------------------------- -- 13.4/14.3 MB 2.6 MB/s eta 0:00:01\n",
      "   -------------------------------------- - 13.6/14.3 MB 2.7 MB/s eta 0:00:01\n",
      "   -------------------------------------- - 13.9/14.3 MB 2.6 MB/s eta 0:00:01\n",
      "   ---------------------------------------  14.0/14.3 MB 2.6 MB/s eta 0:00:01\n",
      "   ---------------------------------------  14.2/14.3 MB 2.6 MB/s eta 0:00:01\n",
      "   ---------------------------------------  14.3/14.3 MB 2.6 MB/s eta 0:00:01\n",
      "   ---------------------------------------- 14.3/14.3 MB 2.6 MB/s eta 0:00:00\n",
      "Installing collected packages: mysql-connector-python\n",
      "Successfully installed mysql-connector-python-9.0.0\n",
      "Note: you may need to restart the kernel to use updated packages.\n"
     ]
    }
   ],
   "source": [
    "pip install mysql-connector-python"
   ]
  },
  {
   "cell_type": "code",
   "execution_count": 6,
   "id": "ac30cc32-7493-46d0-8a8c-d70bd24ab67a",
   "metadata": {},
   "outputs": [],
   "source": [
    "import mysql.connector\n",
    "from mysql.connector import Error\n",
    "import pandas as pd\n",
    "\n"
   ]
  },
  {
   "cell_type": "code",
   "execution_count": 9,
   "id": "48922ad3-1f0c-43bf-af93-eb3df2d5db27",
   "metadata": {},
   "outputs": [
    {
     "name": "stdout",
     "output_type": "stream",
     "text": [
      "Mysql Database connection successful\n"
     ]
    }
   ],
   "source": [
    "def create_server_connection(host_name,user_name,user_password):\n",
    "    connection=None\n",
    "    try:\n",
    "        connection=mysql.connector.connect(\n",
    "            host=host_name,\n",
    "            user=user_name,\n",
    "            password=user_password)\n",
    "        print(\"Mysql Database connection successful\")\n",
    "    except Error as err:\n",
    "        print(f\"Error:'{err}'\")\n",
    "    return connection\n",
    "# put our Mysql terminal password\n",
    "pw=\"SQL_shivi\"\n",
    "#database name\n",
    "db=\"mysql_python\"\n",
    "connection=create_server_connection(\"localhost\",\"root\",pw)"
   ]
  },
  {
   "cell_type": "code",
   "execution_count": 11,
   "id": "7f55c3f3-2ea2-417b-a311-e33fa64a7dbc",
   "metadata": {},
   "outputs": [
    {
     "name": "stdout",
     "output_type": "stream",
     "text": [
      "Database created successfully\n"
     ]
    }
   ],
   "source": [
    "#create mysql_python\n",
    "\n",
    "def create_database(connection,query):\n",
    "    cursor=connection.cursor()\n",
    "    try:\n",
    "        cursor.execute(query)\n",
    "        print(\"Database created successfully\")\n",
    "    except Error as err:\n",
    "        print(f\"Error:{err}'\")\n",
    "create_database_query=\"Create database mysql_python\"\n",
    "create_database(connection,create_database_query)"
   ]
  },
  {
   "cell_type": "code",
   "execution_count": 12,
   "id": "624f6a58-ed2b-4bd8-9a25-d45165362172",
   "metadata": {},
   "outputs": [],
   "source": [
    "# connect to database\n",
    "\n",
    "def create_db_connection(host_name,user_name,user_password,db_name):\n",
    "    connection=None\n",
    "    try:\n",
    "        connection=mysql.connector.connect(\n",
    "            host=host_name,\n",
    "            user=user_name,\n",
    "            password=user_password,\n",
    "            database=db_name)\n",
    "        print(\"Mysql database connection successfully\")\n",
    "    except Error as err:\n",
    "        print(f\"Error:'{err}'\")\n",
    "    return connection"
   ]
  },
  {
   "cell_type": "code",
   "execution_count": 13,
   "id": "c8db04f1-9c1c-4768-9247-168fcb079f84",
   "metadata": {},
   "outputs": [],
   "source": [
    "# execute sql queries\n",
    "\n",
    "def execute_query(connection,query):\n",
    "    cursor=connection.cursor()\n",
    "    try:\n",
    "        cursor.execute(query)\n",
    "        connection.commit()\n",
    "        print(\"Query was successful\")\n",
    "    except Error as err:\n",
    "        print(f\"Error:'{err}'\")"
   ]
  },
  {
   "cell_type": "code",
   "execution_count": 15,
   "id": "bf9d7e05-1bc6-400e-906a-f53b4daafe78",
   "metadata": {},
   "outputs": [
    {
     "name": "stdout",
     "output_type": "stream",
     "text": [
      "Mysql database connection successfully\n",
      "Query was successful\n"
     ]
    }
   ],
   "source": [
    "create_orders_table=\"\"\"\n",
    "create table orders(\n",
    "order_id int primary key,\n",
    "customer_name varchar(30) not null,\n",
    "product_name varchar(20) not null,\n",
    "date_ordered date,\n",
    "quantity int,\n",
    "unit_price float,\n",
    "phone_number varchar(20));\n",
    "\"\"\"\n",
    "\n",
    "#connect to the database\n",
    "connection=create_db_connection(\"localhost\",\"root\",pw,db)\n",
    "execute_query(connection,create_orders_table)"
   ]
  },
  {
   "cell_type": "code",
   "execution_count": 16,
   "id": "5ce60dca-6e8c-491b-810e-fc5370c2c44b",
   "metadata": {},
   "outputs": [
    {
     "name": "stdout",
     "output_type": "stream",
     "text": [
      "Mysql database connection successfully\n",
      "Query was successful\n"
     ]
    }
   ],
   "source": [
    "# insert data\n",
    "data_orders=\"\"\"\n",
    "insert into orders values\n",
    "(101,'steve','laptop','2018-06-12',2,800,'6293730802'),\n",
    "(102,'jos','books','2019-02-10',10,12,'8367489124'),\n",
    "(103,'stacy','trousers','2019-12-25',5,50,'8976123645'),\n",
    "(104,'nancy','t-shirts','2018-07-14',7,30,'7368145099'),\n",
    "(105,'maria','headphones','2019-05-30',6,48,'8865316698'),\n",
    "(106,'danny','smart tv','2018-08-20',10,300,'7720130449');\n",
    "\"\"\"\n",
    "connection=create_db_connection(\"localhost\",\"root\",pw,db)\n",
    "execute_query(connection,data_orders)"
   ]
  },
  {
   "cell_type": "code",
   "execution_count": 17,
   "id": "a9c5fc28-1945-4a0c-8a77-ef6e47d3dc58",
   "metadata": {},
   "outputs": [],
   "source": [
    "def read_query(connection,query):\n",
    "    cursor=connection.cursor()\n",
    "    result=None\n",
    "    try:\n",
    "        cursor.execute(query)\n",
    "        result=cursor.fetchall()\n",
    "        return result\n",
    "    except Error as err:\n",
    "        print(f\"Error:'{err}'\")"
   ]
  },
  {
   "cell_type": "code",
   "execution_count": 18,
   "id": "ea1f20cd-83e0-4d27-b7c9-e815ec5a951b",
   "metadata": {},
   "outputs": [
    {
     "name": "stdout",
     "output_type": "stream",
     "text": [
      "Mysql database connection successfully\n",
      "(101, 'steve', 'laptop', datetime.date(2018, 6, 12), 2, 800.0, '6293730802')\n",
      "(102, 'jos', 'books', datetime.date(2019, 2, 10), 10, 12.0, '8367489124')\n",
      "(103, 'stacy', 'trousers', datetime.date(2019, 12, 25), 5, 50.0, '8976123645')\n",
      "(104, 'nancy', 't-shirts', datetime.date(2018, 7, 14), 7, 30.0, '7368145099')\n",
      "(105, 'maria', 'headphones', datetime.date(2019, 5, 30), 6, 48.0, '8865316698')\n",
      "(106, 'danny', 'smart tv', datetime.date(2018, 8, 20), 10, 300.0, '7720130449')\n"
     ]
    }
   ],
   "source": [
    "#using the select statement\n",
    "q1=\"\"\"\n",
    "select * from orders;\n",
    "\"\"\"\n",
    "connection=create_db_connection(\"localhost\",\"root\",pw,db)\n",
    "results=read_query(connection,q1)\n",
    "for result in results:\n",
    "    print(result)"
   ]
  },
  {
   "cell_type": "code",
   "execution_count": 20,
   "id": "950dc635-dc9d-4061-9b21-52a329943485",
   "metadata": {},
   "outputs": [
    {
     "name": "stdout",
     "output_type": "stream",
     "text": [
      "Mysql database connection successfully\n",
      "('steve', '6293730802')\n",
      "('jos', '8367489124')\n",
      "('stacy', '8976123645')\n",
      "('nancy', '7368145099')\n",
      "('maria', '8865316698')\n",
      "('danny', '7720130449')\n"
     ]
    }
   ],
   "source": [
    "q2=\"\"\"\n",
    "select customer_name,phone_number from orders;\n",
    "\"\"\"\n",
    "connection=create_db_connection(\"localhost\",\"root\",pw,db)\n",
    "results=read_query(connection,q2)\n",
    "for result in results:\n",
    "    print(result)"
   ]
  },
  {
   "cell_type": "code",
   "execution_count": 21,
   "id": "33099543-6724-4e1a-a8a3-f6fca0a769ee",
   "metadata": {},
   "outputs": [
    {
     "name": "stdout",
     "output_type": "stream",
     "text": [
      "Mysql database connection successfully\n",
      "(2018,)\n",
      "(2019,)\n",
      "(2019,)\n",
      "(2018,)\n",
      "(2019,)\n",
      "(2018,)\n"
     ]
    }
   ],
   "source": [
    "q3=\"\"\"\n",
    "select year(date_ordered) from orders;\n",
    "\"\"\"\n",
    "connection=create_db_connection(\"localhost\",\"root\",pw,db)\n",
    "results=read_query(connection,q3)\n",
    "for result in results:\n",
    "    print(result)"
   ]
  },
  {
   "cell_type": "code",
   "execution_count": 22,
   "id": "6add429b-84e7-4540-813b-1a5955c14c02",
   "metadata": {},
   "outputs": [
    {
     "name": "stdout",
     "output_type": "stream",
     "text": [
      "Mysql database connection successfully\n",
      "(2018,)\n",
      "(2019,)\n"
     ]
    }
   ],
   "source": [
    "# select distinct year\n",
    "q4=\"\"\"\n",
    "select distinct year(date_ordered) from orders;\n",
    "\"\"\"\n",
    "connection=create_db_connection(\"localhost\",\"root\",pw,db)\n",
    "results=read_query(connection,q4)\n",
    "for result in results:\n",
    "    print(result)"
   ]
  },
  {
   "cell_type": "code",
   "execution_count": 23,
   "id": "29765ce6-0736-482f-b39e-8ecac75ddb13",
   "metadata": {},
   "outputs": [
    {
     "name": "stdout",
     "output_type": "stream",
     "text": [
      "Mysql database connection successfully\n",
      "(101, 'steve', 'laptop', datetime.date(2018, 6, 12), 2, 800.0, '6293730802')\n",
      "(104, 'nancy', 't-shirts', datetime.date(2018, 7, 14), 7, 30.0, '7368145099')\n",
      "(106, 'danny', 'smart tv', datetime.date(2018, 8, 20), 10, 300.0, '7720130449')\n"
     ]
    }
   ],
   "source": [
    "# display every order that are placed before 31st dec\n",
    "q5=\"\"\"\n",
    "select * from orders where date_ordered < '2018-12-31';\n",
    "\"\"\"\n",
    "connection=create_db_connection(\"localhost\",\"root\",pw,db)\n",
    "results=read_query(connection,q5)\n",
    "for result in results:\n",
    "    print(result)"
   ]
  },
  {
   "cell_type": "code",
   "execution_count": 24,
   "id": "63cb429f-4e2d-450a-969a-049a880e4b39",
   "metadata": {},
   "outputs": [
    {
     "name": "stdout",
     "output_type": "stream",
     "text": [
      "Mysql database connection successfully\n",
      "(102, 'jos', 'books', datetime.date(2019, 2, 10), 10, 12.0, '8367489124')\n",
      "(103, 'stacy', 'trousers', datetime.date(2019, 12, 25), 5, 50.0, '8976123645')\n",
      "(105, 'maria', 'headphones', datetime.date(2019, 5, 30), 6, 48.0, '8865316698')\n"
     ]
    }
   ],
   "source": [
    "# display every order that are placed after 31st dec\n",
    "q6=\"\"\"\n",
    "select * from orders where date_ordered > '2018-12-31';\n",
    "\"\"\"\n",
    "connection=create_db_connection(\"localhost\",\"root\",pw,db)\n",
    "results=read_query(connection,q6)\n",
    "for result in results:\n",
    "    print(result)"
   ]
  },
  {
   "cell_type": "code",
   "execution_count": 26,
   "id": "1da84b9b-87f2-4b30-a050-7b6379b607f0",
   "metadata": {},
   "outputs": [
    {
     "name": "stdout",
     "output_type": "stream",
     "text": [
      "Mysql database connection successfully\n",
      "(101, 'steve', 'laptop', datetime.date(2018, 6, 12), 2, 800.0, '6293730802')\n",
      "(106, 'danny', 'smart tv', datetime.date(2018, 8, 20), 10, 300.0, '7720130449')\n",
      "(103, 'stacy', 'trousers', datetime.date(2019, 12, 25), 5, 50.0, '8976123645')\n",
      "(105, 'maria', 'headphones', datetime.date(2019, 5, 30), 6, 48.0, '8865316698')\n",
      "(104, 'nancy', 't-shirts', datetime.date(2018, 7, 14), 7, 30.0, '7368145099')\n",
      "(102, 'jos', 'books', datetime.date(2019, 2, 10), 10, 12.0, '8367489124')\n"
     ]
    }
   ],
   "source": [
    "# order by either in asc or desc order\n",
    "q7=\"\"\"\n",
    "select * from orders  order by unit_price desc; \n",
    "\"\"\"\n",
    "connection=create_db_connection(\"localhost\",\"root\",pw,db)\n",
    "results=read_query(connection,q7)\n",
    "for result in results:\n",
    "    print(result)"
   ]
  },
  {
   "cell_type": "code",
   "execution_count": 27,
   "id": "7723e288-5142-45f3-b8f8-84dd787920f2",
   "metadata": {},
   "outputs": [
    {
     "data": {
      "text/html": [
       "<div>\n",
       "<style scoped>\n",
       "    .dataframe tbody tr th:only-of-type {\n",
       "        vertical-align: middle;\n",
       "    }\n",
       "\n",
       "    .dataframe tbody tr th {\n",
       "        vertical-align: top;\n",
       "    }\n",
       "\n",
       "    .dataframe thead th {\n",
       "        text-align: right;\n",
       "    }\n",
       "</style>\n",
       "<table border=\"1\" class=\"dataframe\">\n",
       "  <thead>\n",
       "    <tr style=\"text-align: right;\">\n",
       "      <th></th>\n",
       "      <th>order_id</th>\n",
       "      <th>customer_name</th>\n",
       "      <th>product_name</th>\n",
       "      <th>date_ordered</th>\n",
       "      <th>quantity</th>\n",
       "      <th>unit_price</th>\n",
       "      <th>phone_number</th>\n",
       "    </tr>\n",
       "  </thead>\n",
       "  <tbody>\n",
       "    <tr>\n",
       "      <th>0</th>\n",
       "      <td>101</td>\n",
       "      <td>steve</td>\n",
       "      <td>laptop</td>\n",
       "      <td>2018-06-12</td>\n",
       "      <td>2</td>\n",
       "      <td>800.0</td>\n",
       "      <td>6293730802</td>\n",
       "    </tr>\n",
       "    <tr>\n",
       "      <th>1</th>\n",
       "      <td>106</td>\n",
       "      <td>danny</td>\n",
       "      <td>smart tv</td>\n",
       "      <td>2018-08-20</td>\n",
       "      <td>10</td>\n",
       "      <td>300.0</td>\n",
       "      <td>7720130449</td>\n",
       "    </tr>\n",
       "    <tr>\n",
       "      <th>2</th>\n",
       "      <td>103</td>\n",
       "      <td>stacy</td>\n",
       "      <td>trousers</td>\n",
       "      <td>2019-12-25</td>\n",
       "      <td>5</td>\n",
       "      <td>50.0</td>\n",
       "      <td>8976123645</td>\n",
       "    </tr>\n",
       "    <tr>\n",
       "      <th>3</th>\n",
       "      <td>105</td>\n",
       "      <td>maria</td>\n",
       "      <td>headphones</td>\n",
       "      <td>2019-05-30</td>\n",
       "      <td>6</td>\n",
       "      <td>48.0</td>\n",
       "      <td>8865316698</td>\n",
       "    </tr>\n",
       "    <tr>\n",
       "      <th>4</th>\n",
       "      <td>104</td>\n",
       "      <td>nancy</td>\n",
       "      <td>t-shirts</td>\n",
       "      <td>2018-07-14</td>\n",
       "      <td>7</td>\n",
       "      <td>30.0</td>\n",
       "      <td>7368145099</td>\n",
       "    </tr>\n",
       "    <tr>\n",
       "      <th>5</th>\n",
       "      <td>102</td>\n",
       "      <td>jos</td>\n",
       "      <td>books</td>\n",
       "      <td>2019-02-10</td>\n",
       "      <td>10</td>\n",
       "      <td>12.0</td>\n",
       "      <td>8367489124</td>\n",
       "    </tr>\n",
       "  </tbody>\n",
       "</table>\n",
       "</div>"
      ],
      "text/plain": [
       "   order_id customer_name product_name date_ordered  quantity  unit_price  \\\n",
       "0       101         steve       laptop   2018-06-12         2       800.0   \n",
       "1       106         danny     smart tv   2018-08-20        10       300.0   \n",
       "2       103         stacy     trousers   2019-12-25         5        50.0   \n",
       "3       105         maria   headphones   2019-05-30         6        48.0   \n",
       "4       104         nancy     t-shirts   2018-07-14         7        30.0   \n",
       "5       102           jos        books   2019-02-10        10        12.0   \n",
       "\n",
       "  phone_number  \n",
       "0   6293730802  \n",
       "1   7720130449  \n",
       "2   8976123645  \n",
       "3   8865316698  \n",
       "4   7368145099  \n",
       "5   8367489124  "
      ]
     },
     "metadata": {},
     "output_type": "display_data"
    }
   ],
   "source": [
    "from_db=[]\n",
    "for result in results:\n",
    "    result=list(result)\n",
    "    from_db.append(result)\n",
    "columns=[\"order_id\",\"customer_name\",\"product_name\",\"date_ordered\",\"quantity\",\n",
    "        \"unit_price\",\"phone_number\"]\n",
    "df=pd.DataFrame(from_db,columns=columns)\n",
    "display(df)"
   ]
  },
  {
   "cell_type": "code",
   "execution_count": 28,
   "id": "b55ec7be-f29a-41b5-afed-cf0660cf967a",
   "metadata": {},
   "outputs": [
    {
     "name": "stdout",
     "output_type": "stream",
     "text": [
      "Mysql database connection successfully\n",
      "Query was successful\n"
     ]
    }
   ],
   "source": [
    "#update command\n",
    "update=\"\"\"\n",
    "update orders\n",
    "set unit_price =45\n",
    "where order_id=103\n",
    "\"\"\"\n",
    "connection=create_db_connection(\"localhost\",\"root\",pw,db)\n",
    "execute_query(connection,update)"
   ]
  },
  {
   "cell_type": "code",
   "execution_count": 29,
   "id": "99a62085-0d80-4d0f-9234-0605398893f5",
   "metadata": {},
   "outputs": [
    {
     "name": "stdout",
     "output_type": "stream",
     "text": [
      "Mysql database connection successfully\n",
      "(103, 'stacy', 'trousers', datetime.date(2019, 12, 25), 5, 45.0, '8976123645')\n"
     ]
    }
   ],
   "source": [
    "q8=\"\"\"\n",
    "select * from orders where order_id=103;\n",
    "\"\"\"\n",
    "connection=create_db_connection(\"localhost\",\"root\",pw,db)\n",
    "results=read_query(connection,q8)\n",
    "for result in results:\n",
    "    print(result)"
   ]
  },
  {
   "cell_type": "code",
   "execution_count": 31,
   "id": "0e3ee696-5eb2-4e13-bfa1-731a1832aec6",
   "metadata": {},
   "outputs": [
    {
     "name": "stdout",
     "output_type": "stream",
     "text": [
      "Mysql database connection successfully\n",
      "Query was successful\n"
     ]
    }
   ],
   "source": [
    "#delete command\n",
    "delete_order=\"\"\"\n",
    "delete from orders\n",
    "where order_id=105;\n",
    "\"\"\"\n",
    "connection=create_db_connection(\"localhost\",\"root\",pw,db)\n",
    "execute_query(connection,delete_order)"
   ]
  },
  {
   "cell_type": "code",
   "execution_count": 33,
   "id": "8b2856b4-6ca5-4cd3-8f32-5d59c5cf9970",
   "metadata": {},
   "outputs": [
    {
     "name": "stdout",
     "output_type": "stream",
     "text": [
      "Mysql database connection successfully\n",
      "(101, 'steve', 'laptop', datetime.date(2018, 6, 12), 2, 800.0, '6293730802')\n",
      "(102, 'jos', 'books', datetime.date(2019, 2, 10), 10, 12.0, '8367489124')\n",
      "(103, 'stacy', 'trousers', datetime.date(2019, 12, 25), 5, 45.0, '8976123645')\n",
      "(104, 'nancy', 't-shirts', datetime.date(2018, 7, 14), 7, 30.0, '7368145099')\n",
      "(106, 'danny', 'smart tv', datetime.date(2018, 8, 20), 10, 300.0, '7720130449')\n"
     ]
    }
   ],
   "source": [
    "q9=\"\"\"\n",
    "select * from orders;\n",
    "\"\"\"\n",
    "connection=create_db_connection(\"localhost\",\"root\",pw,db)\n",
    "results=read_query(connection,q9)\n",
    "for result in results:\n",
    "    print(result)"
   ]
  },
  {
   "cell_type": "code",
   "execution_count": null,
   "id": "95d8dedb-16d9-44a3-b461-d650f154a376",
   "metadata": {},
   "outputs": [],
   "source": []
  }
 ],
 "metadata": {
  "kernelspec": {
   "display_name": "Python 3 (ipykernel)",
   "language": "python",
   "name": "python3"
  },
  "language_info": {
   "codemirror_mode": {
    "name": "ipython",
    "version": 3
   },
   "file_extension": ".py",
   "mimetype": "text/x-python",
   "name": "python",
   "nbconvert_exporter": "python",
   "pygments_lexer": "ipython3",
   "version": "3.11.7"
  }
 },
 "nbformat": 4,
 "nbformat_minor": 5
}
